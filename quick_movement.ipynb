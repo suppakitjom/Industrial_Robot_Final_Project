{
 "cells": [
  {
   "cell_type": "code",
   "execution_count": null,
   "metadata": {},
   "outputs": [],
   "source": [
    "from arm import Arm\n",
    "\n",
    "pos = 0\n",
    "\n",
    "if pos:\n",
    "    Arm().home_position()\n",
    "else:\n",
    "    Arm().standby_position()"
   ]
  },
  {
   "cell_type": "code",
   "execution_count": null,
   "metadata": {},
   "outputs": [],
   "source": [
    "from gripper import Gripper\n",
    "\n",
    "open = 1\n",
    "\n",
    "if open:\n",
    "    Gripper().open()\n",
    "else:\n",
    "    Gripper().close()"
   ]
  }
 ],
 "metadata": {
  "kernelspec": {
   "display_name": "Python 3",
   "language": "python",
   "name": "python3"
  },
  "language_info": {
   "codemirror_mode": {
    "name": "ipython",
    "version": 3
   },
   "file_extension": ".py",
   "mimetype": "text/x-python",
   "name": "python",
   "nbconvert_exporter": "python",
   "pygments_lexer": "ipython3",
   "version": "3.10.0"
  }
 },
 "nbformat": 4,
 "nbformat_minor": 2
}
