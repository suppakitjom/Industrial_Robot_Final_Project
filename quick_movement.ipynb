{
 "cells": [
  {
   "cell_type": "code",
   "execution_count": 6,
   "metadata": {},
   "outputs": [
    {
     "name": "stdout",
     "output_type": "stream",
     "text": [
      "\u001b[93mConnecting to arm at 10.10.0.14:30003...\u001b[0m\n",
      "\u001b[93mConnected to arm.\u001b[0m\n",
      "\u001b[93mSending move command: movej(p[0.046,-0.32,-0.1,2.2,2.239,0],1,0.75,<module 'time' (built-in)>,0)\u001b[0m\n",
      "\u001b[93mArm moving to standby position...\u001b[0m\n"
     ]
    }
   ],
   "source": [
    "from arm import Arm\n",
    "\n",
    "pos = 0\n",
    "\n",
    "if pos:\n",
    "    Arm().home_pos()\n",
    "else:\n",
    "    Arm().standby_pos()"
   ]
  },
  {
   "cell_type": "code",
   "execution_count": 10,
   "metadata": {},
   "outputs": [
    {
     "name": "stdout",
     "output_type": "stream",
     "text": [
      "\u001b[93mConnecting to gripper at 10.10.0.14:63352...\u001b[0m\n",
      "\u001b[93mConnected to gripper. Getting ACT\u001b[0m\n",
      "\u001b[93mACT 1\n",
      "\u001b[0m\n"
     ]
    }
   ],
   "source": [
    "from gripper import Gripper\n",
    "\n",
    "open = 1\n",
    "\n",
    "if open:\n",
    "    Gripper().open()\n",
    "else:\n",
    "    Gripper().close()"
   ]
  }
 ],
 "metadata": {
  "kernelspec": {
   "display_name": "Python 3",
   "language": "python",
   "name": "python3"
  },
  "language_info": {
   "codemirror_mode": {
    "name": "ipython",
    "version": 3
   },
   "file_extension": ".py",
   "mimetype": "text/x-python",
   "name": "python",
   "nbconvert_exporter": "python",
   "pygments_lexer": "ipython3",
   "version": "3.11.3"
  }
 },
 "nbformat": 4,
 "nbformat_minor": 2
}
